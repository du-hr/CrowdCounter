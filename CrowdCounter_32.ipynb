{
  "nbformat": 4,
  "nbformat_minor": 0,
  "metadata": {
    "colab": {
      "name": "CrowdCounter_32.ipynb",
      "provenance": []
    },
    "kernelspec": {
      "name": "python3",
      "display_name": "Python 3"
    }
  },
  "cells": [
    {
      "cell_type": "code",
      "metadata": {
        "id": "IDyuUigkn76c"
      },
      "source": [
        "#This is our notebook!"
      ],
      "execution_count": null,
      "outputs": []
    }
  ]
}