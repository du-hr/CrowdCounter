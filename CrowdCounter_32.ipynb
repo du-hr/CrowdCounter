{
  "nbformat": 4,
  "nbformat_minor": 0,
  "metadata": {
    "colab": {
      "name": "CrowdCounter_32.ipynb",
      "provenance": []
    },
    "kernelspec": {
      "name": "python3",
      "display_name": "Python 3"
    }
  },
  "cells": [
    {
      "cell_type": "code",
      "metadata": {
        "id": "IDyuUigkn76c",
        "outputId": "b8c7c02d-dccb-4a71-f060-a2f464336c25",
        "colab": {
          "base_uri": "https://localhost:8080/"
        }
      },
      "source": [
        "import matplotlib.image as im\n",
        "import matplotlib.pyplot as plt\n",
        "import numpy as np\n",
        "import cv2\n",
        "\n",
        "#This is our notebook!\n",
        "\n",
        "#Mount drive\n",
        "from google.colab import drive\n",
        "drive.mount('/content/drive')\n",
        "\n",
        "#Load the dataset\n",
        "dataset = np.ndarray((2000, 480, 640, 3))\n",
        "for i in range(len(dataset)):\n",
        "  if i//10 == 0:\n",
        "    num = '00000'+str(i)\n",
        "  elif i//100 == 0:\n",
        "    num = '0000'+str(i)\n",
        "  elif i//1000 == 0:\n",
        "    num = '000'+str(i)\n",
        "  else:\n",
        "    num = '00'+str(i)\n",
        "  image = cv2.imread('/content/drive/My Drive/ECSE415/Project/frames/frames/seq_' + num + '.jpg')\n",
        "  dataset[i] = image\n"
      ],
      "execution_count": null,
      "outputs": [
        {
          "output_type": "stream",
          "text": [
            "Drive already mounted at /content/drive; to attempt to forcibly remount, call drive.mount(\"/content/drive\", force_remount=True).\n"
          ],
          "name": "stdout"
        }
      ]
    },
    {
      "cell_type": "code",
      "metadata": {
        "id": "VJEp00HNuvS6"
      },
      "source": [
        "image = cv2.imread('/content/drive/My Drive/ECSE415/Project/frames/frames/seq_000001')"
      ],
      "execution_count": 11,
      "outputs": []
    }
  ]
}